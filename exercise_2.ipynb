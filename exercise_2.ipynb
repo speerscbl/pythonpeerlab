{
 "cells": [
  {
   "cell_type": "markdown",
   "id": "f6097c16",
   "metadata": {},
   "source": [
    "# Übung 2: Listen & Dictionaries\n",
    "\n",
    "1.) Schreibe eine Funktion mit dem Namen \"zahlen_checker\", in welche 2 Werte übergeben werden müssen:\n",
    "- das Wort <mark style=\"background-color: lightyellow\">\"positiv\"</mark> oder <mark style=\"background-color: lightyellow\">\"negativ\"</mark>\n",
    "- eine <mark style=\"background-color: lightyellow\">beliebige Zahl</mark>\n",
    "\n",
    "Die Funktion soll nun folgendes prüfen:\n",
    "\n",
    "- Falls das Wort <mark style=\"background-color: lightyellow\">\"positiv\"</mark> übergeben wurde, soll geprüft werden, ob die übergebene Zahl positiv ist. Falls dies stimmt soll der Wert <mark style=\"background-color: lightyellow\">True</mark> zurückgegeben werden, ansonsten <mark style=\"background-color: lightyellow\">False</mark>.\n",
    "- Falls das Wort <mark style=\"background-color: lightyellow\">\"negativ\"</mark> übergeben wurde, soll geprüft werden, ob die übergebene Zahl negativ ist. Falls dies stimmt soll der Wert <mark style=\"background-color: lightyellow\">True</mark> zurückgegeben werden, ansonsten <mark style=\"background-color: lightyellow\">False</mark>.\n",
    "- BONUS: Die Historie der übergebenen Wörter, Zahlen sowie das Ergebnis (True / False) soll in einer Liste gespeichert werden.\n"
   ]
  },
  {
   "cell_type": "code",
   "execution_count": 6,
   "id": "7abaf83d",
   "metadata": {},
   "outputs": [],
   "source": [
    "# ersetze dies durch deinen Code"
   ]
  },
  {
   "cell_type": "markdown",
   "id": "a5fad598",
   "metadata": {},
   "source": [
    "Probiere mit Hilfe des Skripts (und Google?) auf die Lösung zu kommen. **Falls du wirklich nicht weiter kommst** führe die jeweilge Spalte für Tipps aus:"
   ]
  },
  {
   "cell_type": "code",
   "execution_count": null,
   "id": "cf34eb4f",
   "metadata": {},
   "outputs": [],
   "source": [
    "from auxiliary import exercise_2_tip_1, exercise_2_tip_2\n",
    "\n",
    "exercise_2_tip_1()"
   ]
  },
  {
   "cell_type": "code",
   "execution_count": null,
   "id": "9ce026ac",
   "metadata": {},
   "outputs": [],
   "source": [
    "exercise_2_tip_2()"
   ]
  }
 ],
 "metadata": {
  "kernelspec": {
   "display_name": "Python 3",
   "language": "python",
   "name": "python3"
  },
  "language_info": {
   "codemirror_mode": {
    "name": "ipython",
    "version": 3
   },
   "file_extension": ".py",
   "mimetype": "text/x-python",
   "name": "python",
   "nbconvert_exporter": "python",
   "pygments_lexer": "ipython3",
   "version": "3.8.8"
  }
 },
 "nbformat": 4,
 "nbformat_minor": 5
}
