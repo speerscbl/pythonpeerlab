{
 "cells": [
  {
   "cell_type": "markdown",
   "id": "7fdc5115",
   "metadata": {},
   "source": [
    "# Übung 1: Listen & Dictionaries\n",
    "\n",
    "1.) Erstelle eine Liste bestehend aus den fünf Ländern (in dieser Reihenfolge):\n",
    "- Schweiz\n",
    "- Deutschland\n",
    "- Frankreich\n",
    "- Italien\n",
    "- England"
   ]
  },
  {
   "cell_type": "code",
   "execution_count": 5,
   "id": "3b7a8216",
   "metadata": {},
   "outputs": [],
   "source": [
    "# ersetze dies durch deinen Code"
   ]
  },
  {
   "cell_type": "markdown",
   "id": "9495441a",
   "metadata": {},
   "source": [
    "2.) Entferne nun Frankreich sowie den letzten Eintrag"
   ]
  },
  {
   "cell_type": "code",
   "execution_count": 4,
   "id": "ece94ba7",
   "metadata": {},
   "outputs": [],
   "source": [
    "# ersetze dies durch deinen Code"
   ]
  },
  {
   "cell_type": "markdown",
   "id": "10a69840",
   "metadata": {},
   "source": [
    "3.) Erstelle einen Dictionary, welcher den Radiofrequenzen jeweils einen Radionamen zuordnet:\n",
    "89.1 MHz hat den Namen SWR3, 91.3 MHz MHz hat den Namen Radio Seefunk, 93.5 MHz hat den Namen Antenne Bayern und 94.9 MHz ist SWR 4"
   ]
  },
  {
   "cell_type": "code",
   "execution_count": 3,
   "id": "c3703463",
   "metadata": {},
   "outputs": [],
   "source": [
    "# ersetze dies durch deinen Code"
   ]
  },
  {
   "cell_type": "markdown",
   "id": "c8e6f885",
   "metadata": {},
   "source": [
    "4.) Entferne nun Antenne Bayern und füge stattdessen 103.0 MHz Energy hinzu"
   ]
  },
  {
   "cell_type": "code",
   "execution_count": 7,
   "id": "10a7b9f2",
   "metadata": {},
   "outputs": [],
   "source": [
    "# ersetze dies durch deinen Code"
   ]
  },
  {
   "cell_type": "markdown",
   "id": "a310fb15",
   "metadata": {},
   "source": [
    "5.) Radio Seefunk sendet ab sofort auf der Frequenz 92.5 MHz, passe deinen dict entsprechend an."
   ]
  },
  {
   "cell_type": "code",
   "execution_count": 9,
   "id": "47d5cdf5",
   "metadata": {},
   "outputs": [],
   "source": [
    "# ersetze dies durch deinen Code"
   ]
  }
 ],
 "metadata": {
  "kernelspec": {
   "display_name": "Python 3",
   "language": "python",
   "name": "python3"
  },
  "language_info": {
   "codemirror_mode": {
    "name": "ipython",
    "version": 3
   },
   "file_extension": ".py",
   "mimetype": "text/x-python",
   "name": "python",
   "nbconvert_exporter": "python",
   "pygments_lexer": "ipython3",
   "version": "3.8.8"
  }
 },
 "nbformat": 4,
 "nbformat_minor": 5
}
