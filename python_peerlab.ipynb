{
 "cells": [
  {
   "cell_type": "markdown",
   "id": "f9ed685d",
   "metadata": {},
   "source": [
    "# s-peers Python peerlab\n",
    "\n",
    "<img src=\"https://upload.wikimedia.org/wikipedia/commons/thumb/f/f8/Python_logo_and_wordmark.svg/2560px-Python_logo_and_wordmark.svg.png\" alt=\"drawing\"  width=\"300\" align=\"left\"/>\n",
    "<br clear=\"all\">\n",
    "\n",
    "\n",
    "## Agenda\n",
    "---\n",
    "\n",
    "1. Quick Introduction\n",
    "    - What is Python?\n",
    "    - Why is Python so popular?\n",
    "    - to IDEs / Jupyter Notebooks\n",
    "2. Python Basic Building Blocks\n",
    "    - Datatypes\n",
    "        - Strings\n",
    "        - Numbers\n",
    "        - Booleans \n",
    "\t- Data Structures\n",
    "\t\t- Tuples\n",
    "\t\t- Lists\n",
    "\t\t- Dictionaries\n",
    "\t-  Conditionals and Loops\n",
    "        - Input validation (if/else)\n",
    "        - Loop (while/for)\n",
    "\t-  Functions\n",
    "3. Exercise\n",
    "4. Final\n",
    "\n",
    "\n",
    "## 1. Introduction\n",
    "---\n",
    "\n",
    "### What is Python?\n",
    "\n",
    "\n",
    "> \"Python is an **interpreted** **high-level** general-purpose programming language. Its design philosophy emphasizes code readability with its use of significant indentation. Guido van Rossum began working on Python in the late 1980s (...) and first released it in 1991 as Python 0.9.0.\" [Wikipedia](https://en.wikipedia.org/wiki/Python_(programming_language))\n",
    "\n",
    "- **\"interpreted\"**: For the most part, Python is an interpreted language and not a compiled one.  *(<mark style=\"background-color: lightpurple\">Compiled</mark>: compiles code and turns it to machine code executable (1, 0, 0, 1, 0, 1, 1, ...) -> often faster, ready to run, but inflexible. Source code is private. <mark style=\"background-color: lightpurple\">Interpreted</mark>: code is shared as source code copy and interpreted on the fly, not saved as separate machine code file -> simpler to test, easier to debug & test, but often slower)*\n",
    "- **\"high-level\"**: strong abstraction from machine language, higher readability for humans\n",
    "\n",
    "<img src=\"https://d1psgljc389n8q.cloudfront.net/discussions/posts/ubAJHcD8P\" alt=\"drawing\" width=\"500\" align=\"left\">\n",
    "<img src=\"https://ergo-science.com/wp-content/uploads/2020/09/capture44_orig-1.png\" alt=\"drawing\" width=\"300\" align=\"left\">\n",
    "<br clear=\"all\">\n",
    "\n",
    "\n",
    "\n",
    "\n",
    "### Why is Python so popular?\n",
    "<img src=\"http://cdn.statcdn.com/Infographic/images/normal/21017.jpeg\" alt=\"drawing\"  width=\"350\" align=\"left\"/>\n",
    "<br clear=\"all\">\n",
    "\n",
    "1. easy to learn (simple syntax, easy to setup)\n",
    "**Java Hello World example:**\n",
    "```java\n",
    "class HelloWorldApp {\n",
    "    public static void main(String[] args) {\n",
    "        System.out.println(\"Hello World!\");\n",
    "    }\n",
    "}\n",
    "```\n",
    "\n",
    "**Python Hello World example:**"
   ]
  },
  {
   "cell_type": "code",
   "execution_count": 11,
   "id": "ac809c91",
   "metadata": {},
   "outputs": [
    {
     "name": "stdout",
     "output_type": "stream",
     "text": [
      "Hello World!\n"
     ]
    }
   ],
   "source": [
    "print(\"Hello World!\")"
   ]
  },
  {
   "cell_type": "markdown",
   "id": "93ab5928",
   "metadata": {},
   "source": [
    "Now guess what the following script will do:"
   ]
  },
  {
   "cell_type": "code",
   "execution_count": 13,
   "id": "f8001da7",
   "metadata": {},
   "outputs": [
    {
     "name": "stdout",
     "output_type": "stream",
     "text": [
      "Negative\n"
     ]
    }
   ],
   "source": [
    "number = -10\n",
    "\n",
    "if number > 0:\n",
    "    print(\"Positive\")\n",
    "else:\n",
    "    print(\"Negative\")"
   ]
  },
  {
   "cell_type": "markdown",
   "id": "2f8e4567",
   "metadata": {},
   "source": [
    "\n",
    "2. large ecosystem (lots of libraries, large community)\n",
    "3. highly flexible\n",
    "\n",
    "\n",
    "<img src=\"https://miro.medium.com/max/1400/1*FbpL8alBr_6RoCB-4PhfnQ.png\" alt=\"drawing\" width=\"600\" align=\"left\"/>\n",
    "<br clear=\"all\">\n",
    "\n",
    "\n",
    "### IDEs & Jupyter Notebooks\n",
    "To run python code you need to create a .py file and add executable python code into it. IDEs (Integrated Development Environments) improve the user experience and productivity by adding in multiple features such as:\n",
    "- syntax highlighting\n",
    "- error detection\n",
    "- debugging modes\n",
    "- ...\n",
    "\n",
    "\n",
    "**Simple Windows Notepad vs. PyCharm**\n",
    "<br clear=\"all\">\n",
    "<img src=\"./images/notepad_code_example.png\" alt=\"drawing\" width=\"400\" align=\"left\"/>\n",
    "<img src=\"./images/pycharm_code_example.png\" alt=\"drawing\" width=\"290\" align=\"left\"/>\n",
    "<br clear=\"all\">\n",
    "\n",
    "**Example for code completion plugin tool kite**\n",
    "\n",
    "<img src=\"https://kite-public-assets.s3-us-west-1.amazonaws.com/kite-public/plugin_vs/kite_vs_nokite.gif\" alt=\"drawing\" width=\"400\" align=\"left\"/>\n",
    "<br clear=\"all\">\n",
    "\n",
    "#### IDEs Overview\n",
    "<img src=\"https://cdn-bpaab.nitrocdn.com/ovmYDbOhMgMfItYufwmmRlRlkhckslfH/assets/static/optimized/rev-bbb4408/blog/uploads/2021/04/Best-python-ide-and-code-editors.jpg\" alt=\"drawing\" width=\"500\" align=\"left\"/>\n",
    "<br clear=\"all\">\n",
    "There are plenty of coding environments to chose from and each has its ups and downs (mostly comfort vs. fast-lightweight). So which to choose?\n",
    "\n",
    "For this tutorial I chose Jupyter Notebooks due to:\n",
    "- Markdown Editor\n",
    "- great tool for collaboration & data exploration\n",
    "\n",
    "For projects besides data exploration, collaboration and training I would recommend either\n",
    "- VSC (Visual Studio Code), backed by Microsoft and free to download and use\n",
    "or\n",
    "- PyCharm, Community Edition is free to download and use\n",
    "\n",
    "\n",
    "\n",
    "## 3. Python Basic Building Blocks\n",
    "---\n",
    "\n",
    "### Data types\n",
    "- Variables are containers for storing data values.\n",
    "- A variable is created the moment you first assign a value to it.\n",
    "- Python automatically tries to detect the data type (potential error source!!)\n",
    "\n",
    "\n",
    "#### Strings\n"
   ]
  },
  {
   "cell_type": "code",
   "execution_count": 21,
   "id": "ee3fe130",
   "metadata": {},
   "outputs": [
    {
     "name": "stdout",
     "output_type": "stream",
     "text": [
      "Trees & Plants AG\n"
     ]
    }
   ],
   "source": [
    "customer1 = 'Trees & Plants AG'\n",
    "print(customer1)"
   ]
  },
  {
   "cell_type": "code",
   "execution_count": 17,
   "id": "54a2cfd4",
   "metadata": {},
   "outputs": [
    {
     "data": {
      "text/plain": [
       "str"
      ]
     },
     "execution_count": 17,
     "metadata": {},
     "output_type": "execute_result"
    }
   ],
   "source": [
    "type(id)"
   ]
  },
  {
   "cell_type": "code",
   "execution_count": 16,
   "id": "abb1ce5c",
   "metadata": {},
   "outputs": [
    {
     "data": {
      "text/plain": [
       "'15'"
      ]
     },
     "execution_count": 16,
     "metadata": {},
     "output_type": "execute_result"
    }
   ],
   "source": [
    "id = str(15)\n",
    "id"
   ]
  },
  {
   "cell_type": "code",
   "execution_count": 22,
   "id": "3b740dc4",
   "metadata": {},
   "outputs": [
    {
     "name": "stdout",
     "output_type": "stream",
     "text": [
      "Order BC2387 by customer Trees & Plants AG\n"
     ]
    }
   ],
   "source": [
    "order = 'BC2387'\n",
    "print('Order ' + order + ' by customer ' + customer1)  "
   ]
  },
  {
   "cell_type": "markdown",
   "id": "edcbf916",
   "metadata": {},
   "source": [
    "##### F-Strings\n",
    "Can be used to create dynamic strings:"
   ]
  },
  {
   "cell_type": "code",
   "execution_count": 25,
   "id": "18f7ceb3",
   "metadata": {},
   "outputs": [
    {
     "name": "stdout",
     "output_type": "stream",
     "text": [
      "The assigned order number is BC2387\n"
     ]
    }
   ],
   "source": [
    "order_note = f'The assigned order number is {order}' \n",
    "print(order_note)"
   ]
  },
  {
   "cell_type": "markdown",
   "id": "8338d42c",
   "metadata": {},
   "source": [
    "#### Numbers\n",
    "- Integers"
   ]
  },
  {
   "cell_type": "code",
   "execution_count": 28,
   "id": "12bedda1",
   "metadata": {},
   "outputs": [
    {
     "name": "stdout",
     "output_type": "stream",
     "text": [
      "1\n"
     ]
    }
   ],
   "source": [
    "customer_count = int(1)\n",
    "customer_count"
   ]
  },
  {
   "cell_type": "code",
   "execution_count": 29,
   "id": "5d29a67c",
   "metadata": {},
   "outputs": [
    {
     "data": {
      "text/plain": [
       "int"
      ]
     },
     "execution_count": 29,
     "metadata": {},
     "output_type": "execute_result"
    }
   ],
   "source": [
    "type(customer_count)"
   ]
  },
  {
   "cell_type": "code",
   "execution_count": 38,
   "id": "bbcc0696",
   "metadata": {},
   "outputs": [
    {
     "data": {
      "text/plain": [
       "1"
      ]
     },
     "execution_count": 38,
     "metadata": {},
     "output_type": "execute_result"
    }
   ],
   "source": [
    "customer_count = 1\n",
    "customer_count"
   ]
  },
  {
   "cell_type": "code",
   "execution_count": null,
   "id": "fb2a8371",
   "metadata": {},
   "outputs": [],
   "source": [
    "type(customer_count)"
   ]
  },
  {
   "cell_type": "markdown",
   "id": "5c85bdeb",
   "metadata": {},
   "source": [
    "- Floats"
   ]
  },
  {
   "cell_type": "code",
   "execution_count": 43,
   "id": "2817c18f",
   "metadata": {},
   "outputs": [
    {
     "data": {
      "text/plain": [
       "'1500.50'"
      ]
     },
     "execution_count": 43,
     "metadata": {},
     "output_type": "execute_result"
    }
   ],
   "source": [
    "accounts_payable = \"1500.50\"\n",
    "accounts_payable"
   ]
  },
  {
   "cell_type": "code",
   "execution_count": 44,
   "id": "ae9ba8d5",
   "metadata": {},
   "outputs": [
    {
     "data": {
      "text/plain": [
       "str"
      ]
     },
     "execution_count": 44,
     "metadata": {},
     "output_type": "execute_result"
    }
   ],
   "source": [
    "type(accounts_payable)"
   ]
  },
  {
   "cell_type": "code",
   "execution_count": 41,
   "id": "2a9897e5",
   "metadata": {},
   "outputs": [
    {
     "data": {
      "text/plain": [
       "1500.5"
      ]
     },
     "execution_count": 41,
     "metadata": {},
     "output_type": "execute_result"
    }
   ],
   "source": [
    "accounts_payable = float(1500.50)\n",
    "accounts_payable"
   ]
  },
  {
   "cell_type": "code",
   "execution_count": 42,
   "id": "3928d829",
   "metadata": {},
   "outputs": [
    {
     "data": {
      "text/plain": [
       "float"
      ]
     },
     "execution_count": 42,
     "metadata": {},
     "output_type": "execute_result"
    }
   ],
   "source": [
    "type(accounts_payable)"
   ]
  },
  {
   "cell_type": "markdown",
   "id": "92bd494d",
   "metadata": {},
   "source": [
    "#### Booleans\n",
    "True / False"
   ]
  },
  {
   "cell_type": "code",
   "execution_count": 48,
   "id": "b7a5ca3d",
   "metadata": {},
   "outputs": [
    {
     "data": {
      "text/plain": [
       "False"
      ]
     },
     "execution_count": 48,
     "metadata": {},
     "output_type": "execute_result"
    }
   ],
   "source": [
    "is_active = False\n",
    "is_active"
   ]
  },
  {
   "cell_type": "code",
   "execution_count": 49,
   "id": "758e7321",
   "metadata": {},
   "outputs": [
    {
     "data": {
      "text/plain": [
       "bool"
      ]
     },
     "execution_count": 49,
     "metadata": {},
     "output_type": "execute_result"
    }
   ],
   "source": [
    "type(is_active)"
   ]
  },
  {
   "cell_type": "code",
   "execution_count": null,
   "id": "ca307276",
   "metadata": {},
   "outputs": [],
   "source": [
    "is_active = bool(True)\n",
    "is_active"
   ]
  },
  {
   "cell_type": "code",
   "execution_count": 50,
   "id": "c2d50891",
   "metadata": {},
   "outputs": [
    {
     "data": {
      "text/plain": [
       "bool"
      ]
     },
     "execution_count": 50,
     "metadata": {},
     "output_type": "execute_result"
    }
   ],
   "source": [
    "type(is_active)"
   ]
  },
  {
   "cell_type": "markdown",
   "id": "b69492e8",
   "metadata": {},
   "source": [
    "#### Potential errors:\n",
    "As demonstrated python makes it easy to store values into a variable.\n",
    "\n",
    "**Pros:**\n",
    "- fast coding\n",
    "- easy to read and code\n",
    "- flexibility\n",
    "\n",
    "**Cons:**\n",
    "- potential errors due to missing declarations\n"
   ]
  },
  {
   "cell_type": "code",
   "execution_count": 52,
   "id": "ba1c381f",
   "metadata": {},
   "outputs": [
    {
     "data": {
      "text/plain": [
       "'15001200.3'"
      ]
     },
     "execution_count": 52,
     "metadata": {},
     "output_type": "execute_result"
    }
   ],
   "source": [
    "invoice_1 = \"1500\"\n",
    "invoice_2 = \"1200.3\"\n",
    "\n",
    "invoice_1 + invoice_2"
   ]
  },
  {
   "cell_type": "markdown",
   "id": "42465b31",
   "metadata": {},
   "source": [
    "Python points out these errors and it is easy to fix within this example, but it can be quite annoying to fix these errors when handling big data / source projects with lots of code, when variables are not checked properly. So:\n",
    "\n",
    "<br clear=\"all\">\n",
    "<img src=\"https://media0.giphy.com/media/MCZ39lz83o5lC/200.gif\" alt=\"drawing\" width=\"600\" align=\"left\"/>\n"
   ]
  },
  {
   "cell_type": "code",
   "execution_count": 53,
   "id": "94f1e8ff",
   "metadata": {},
   "outputs": [
    {
     "name": "stdout",
     "output_type": "stream",
     "text": [
      "\n",
      "1. Quick Introduction\n",
      "    - What is Python?\n",
      "    - Why is Python so popular?\n",
      "    - to IDEs / Jupyter Notebooks\n",
      "2. Python Basic Building Blocks\n",
      "    - Datatypes\n",
      "        - Strings\n",
      "        - Numbers\n",
      "        - Booleans \n",
      "\t- Data Structures\n",
      "\t\t- Tuples\n",
      "\t\t- Lists\n",
      "\t\t- Dictionaries\n",
      "\t-  Conditionals and Loops\n",
      "        - Input validation (if/else)\n",
      "        - Loop (while/for)\n",
      "\t-  Functions\n",
      "3. Exercise\n",
      "4. Final\n",
      "\t\n"
     ]
    }
   ],
   "source": [
    "from auxiliary import agenda\n",
    "agenda()"
   ]
  },
  {
   "cell_type": "markdown",
   "id": "83c5b850",
   "metadata": {},
   "source": [
    "### Data Structures\n",
    "---\n",
    "Now we need a way to combine/bundle different variables into data structures.\n",
    "\n",
    "#### Tuples\n",
    " - used to store multiple items in a single variable\n",
    " - is a collection which is ordered and unchangeable\n",
    " - it is possible to store different datatypes within a tuple"
   ]
  },
  {
   "cell_type": "code",
   "execution_count": 54,
   "id": "2f61436d",
   "metadata": {},
   "outputs": [
    {
     "data": {
      "text/plain": [
       "('Tree Planting AG', '8280', 'Kreuzlingen', 3000)"
      ]
     },
     "execution_count": 54,
     "metadata": {},
     "output_type": "execute_result"
    }
   ],
   "source": [
    "customer_info = (\"Tree Planting AG\", \"8280\", \"Kreuzlingen\", 3000)\n",
    "customer_info"
   ]
  },
  {
   "cell_type": "markdown",
   "id": "6bfa95f2",
   "metadata": {},
   "source": [
    "#### Indexing and slicing\n",
    "- The values stored within a tuple can be accessed via indexing and slicing\n",
    "- Python uses zero-based indexing. That means, the first element(value ‘Tree Planting AG’) has an index 0, the second(value ‘8280’) has index 1, and so on\n",
    "- To access an element by its index we need to use square brackets e.g. [0] for the first element"
   ]
  },
  {
   "cell_type": "code",
   "execution_count": 55,
   "id": "7587f3ee",
   "metadata": {},
   "outputs": [
    {
     "data": {
      "text/plain": [
       "'Tree Planting AG'"
      ]
     },
     "execution_count": 55,
     "metadata": {},
     "output_type": "execute_result"
    }
   ],
   "source": [
    "customer_info[0]"
   ]
  },
  {
   "cell_type": "code",
   "execution_count": 56,
   "id": "64b30e7d",
   "metadata": {},
   "outputs": [
    {
     "data": {
      "text/plain": [
       "'8280'"
      ]
     },
     "execution_count": 56,
     "metadata": {},
     "output_type": "execute_result"
    }
   ],
   "source": [
    "customer_info[1]"
   ]
  },
  {
   "cell_type": "markdown",
   "id": "e4cf6fee",
   "metadata": {},
   "source": [
    "There are plenty of ways to slice parts of a tuple e.g. for the second and third element [1:3]:\n",
    "- The full slice syntax is: start:stop:step. start refers to the index of the element which is used as a start of our slice. stop refers to the index of the element we should stop just before to finish our slice.\n",
    "- You can even use a negative index [-1] to address the last element within a data structure\n",
    " \n",
    "\n",
    "For further examples and even more ways please refer to: https://railsware.com/blog/python-for-machine-learning-indexing-and-slicing-for-lists-tuples-strings-and-other-sequential-types/\n"
   ]
  },
  {
   "cell_type": "code",
   "execution_count": 58,
   "id": "7fe6a5fd",
   "metadata": {},
   "outputs": [
    {
     "data": {
      "text/plain": [
       "('Tree Planting AG', '8280', 'Kreuzlingen')"
      ]
     },
     "execution_count": 58,
     "metadata": {},
     "output_type": "execute_result"
    }
   ],
   "source": [
    "customer_info[0:3]"
   ]
  },
  {
   "cell_type": "code",
   "execution_count": 63,
   "id": "d67f9e6a",
   "metadata": {},
   "outputs": [
    {
     "data": {
      "text/plain": [
       "('Kreuzlingen', 3000)"
      ]
     },
     "execution_count": 63,
     "metadata": {},
     "output_type": "execute_result"
    }
   ],
   "source": [
    "customer_info[2:]"
   ]
  },
  {
   "cell_type": "markdown",
   "id": "c98c9743",
   "metadata": {},
   "source": [
    "### Lists\n",
    "---\n",
    "As mentioned tuples are immutable (you can not add a new element to a tuple). Lists are mutable (=dynamic, you can add or remove elements)"
   ]
  },
  {
   "cell_type": "code",
   "execution_count": 64,
   "id": "e2158198",
   "metadata": {},
   "outputs": [
    {
     "data": {
      "text/plain": [
       "['Tree Planting AG', 'Fun Cars AG', 'Migros AG', 'Coop AG']"
      ]
     },
     "execution_count": 64,
     "metadata": {},
     "output_type": "execute_result"
    }
   ],
   "source": [
    "customer_list = [\"Tree Planting AG\", \"Fun Cars AG\", \"Migros AG\", \"Coop AG\"]\n",
    "customer_list"
   ]
  },
  {
   "cell_type": "markdown",
   "id": "e7acef8d",
   "metadata": {},
   "source": [
    "The built in function .append() adds a new element to a list."
   ]
  },
  {
   "cell_type": "code",
   "execution_count": 67,
   "id": "3342c416",
   "metadata": {},
   "outputs": [
    {
     "data": {
      "text/plain": [
       "['Tree Planting AG',\n",
       " 'Fun Cars AG',\n",
       " 'Migros AG',\n",
       " 'Coop AG',\n",
       " 'Coop Mineraloel',\n",
       " 'Coop Mineraloel',\n",
       " 'Coop Mineraloel']"
      ]
     },
     "execution_count": 67,
     "metadata": {},
     "output_type": "execute_result"
    }
   ],
   "source": [
    "customer_list.append(\"Coop Mineraloel\")\n",
    "customer_list"
   ]
  },
  {
   "cell_type": "markdown",
   "id": "20cf3383",
   "metadata": {},
   "source": [
    "**Removing elements of a list**\n",
    "- .pop() removes the last element\n",
    "- .remove(\"Tree Planting AG\") removes specifed element\n",
    "- . clear() clears all elements\n",
    "- del customer_list[2] removes element by index (here third element)"
   ]
  },
  {
   "cell_type": "code",
   "execution_count": 69,
   "id": "a5f3b020",
   "metadata": {},
   "outputs": [
    {
     "data": {
      "text/plain": [
       "['Tree Planting AG', 'Fun Cars AG', 'Migros AG', 'Coop AG', 'Coop Mineraloel']"
      ]
     },
     "execution_count": 69,
     "metadata": {},
     "output_type": "execute_result"
    }
   ],
   "source": [
    "customer_list.pop()\n",
    "customer_list"
   ]
  },
  {
   "cell_type": "code",
   "execution_count": 70,
   "id": "92d0e320",
   "metadata": {},
   "outputs": [
    {
     "data": {
      "text/plain": [
       "['Fun Cars AG', 'Migros AG', 'Coop AG', 'Coop Mineraloel']"
      ]
     },
     "execution_count": 70,
     "metadata": {},
     "output_type": "execute_result"
    }
   ],
   "source": [
    "customer_list.remove(\"Tree Planting AG\")\n",
    "customer_list"
   ]
  },
  {
   "cell_type": "code",
   "execution_count": 71,
   "id": "63a4691b",
   "metadata": {},
   "outputs": [
    {
     "data": {
      "text/plain": [
       "['Fun Cars AG', 'Migros AG', 'Coop Mineraloel']"
      ]
     },
     "execution_count": 71,
     "metadata": {},
     "output_type": "execute_result"
    }
   ],
   "source": [
    "del customer_list[2]\n",
    "customer_list"
   ]
  },
  {
   "cell_type": "markdown",
   "id": "5b822583",
   "metadata": {},
   "source": [
    "### Dictionaries\n",
    "---\n",
    "- used to store data values in key:value pairs\n",
    "- collection which is ordered*, changeable and does not allow duplicates\n"
   ]
  },
  {
   "cell_type": "code",
   "execution_count": null,
   "id": "b2d5a601",
   "metadata": {},
   "outputs": [],
   "source": [
    "customer_dict = {\n",
    "    \"name\": \"Tree Plant AG\",\n",
    "    \"id\": \"1\",\n",
    "    \"postalcode\": \"8280\",\n",
    "    \"city\": \"Kreuzlingen\",\n",
    "    \"accounts_payable\": 1830.50,\n",
    "    \"contact_persons\": [\"Andreas Maier\", \"Sasika Müller\"]\n",
    "}\n",
    "customer_dict"
   ]
  },
  {
   "cell_type": "markdown",
   "id": "e41f8ccc",
   "metadata": {},
   "source": [
    "**Ways to access keys & values:**\n",
    "- .keys() returns all keys of a dict\n",
    "- .get(key) returns values assigned to a specific key\n",
    "- dict[key, value_if_key_error(optional)] returns values assigned to a specific key"
   ]
  },
  {
   "cell_type": "code",
   "execution_count": null,
   "id": "65c98edb",
   "metadata": {},
   "outputs": [],
   "source": [
    "customer_dict[\"name\"]"
   ]
  },
  {
   "cell_type": "code",
   "execution_count": null,
   "id": "ba5c126c",
   "metadata": {},
   "outputs": [],
   "source": [
    "customer_dict.get(\"name\")"
   ]
  },
  {
   "cell_type": "code",
   "execution_count": null,
   "id": "518c6317",
   "metadata": {},
   "outputs": [],
   "source": [
    "customer_dict[\"streetname\"]"
   ]
  },
  {
   "cell_type": "code",
   "execution_count": null,
   "id": "0f163857",
   "metadata": {},
   "outputs": [],
   "source": [
    "customer_dict.get(\"streetname\", \"not defined\")"
   ]
  },
  {
   "cell_type": "markdown",
   "id": "b79a91db",
   "metadata": {},
   "source": [
    "**Add / remove keys & values of dict:**\n",
    "- dict[key] adds a new key & value to a dict; can be used to overwrite old keys\n",
    "- .update({key1:val, key2:val, ...}) adds new key-value pairs; can be used to combine dicts\n",
    "- del dict[key] removes key and values"
   ]
  },
  {
   "cell_type": "code",
   "execution_count": null,
   "id": "b7aa9a2f",
   "metadata": {},
   "outputs": [],
   "source": [
    "customer_dict[\"streetname\"] = \"Hauptstrasse\"\n",
    "customer_dict[\"streetname\"]"
   ]
  },
  {
   "cell_type": "code",
   "execution_count": null,
   "id": "d7a1a9c4",
   "metadata": {},
   "outputs": [],
   "source": [
    "customer_dict.update({\"street_number\":\"12\"})\n",
    "customer_dict.get(\"street_number\")"
   ]
  },
  {
   "cell_type": "code",
   "execution_count": null,
   "id": "9ac6ac3e",
   "metadata": {},
   "outputs": [],
   "source": [
    "del customer_dict[\"street_number\"]\n",
    "customer_dict"
   ]
  },
  {
   "cell_type": "markdown",
   "id": "92e121a5",
   "metadata": {},
   "source": [
    "### Exercise time!\n",
    "Please open the file exercise_1.ipynb"
   ]
  },
  {
   "cell_type": "code",
   "execution_count": null,
   "id": "13ada9e5",
   "metadata": {},
   "outputs": [],
   "source": [
    "agenda()"
   ]
  },
  {
   "cell_type": "markdown",
   "id": "723cf81d",
   "metadata": {},
   "source": [
    "### Conditionals and Loops\n",
    "---\n",
    "#### Input validation (If/Else)\n",
    "Python supports the usual logical conditions from mathematics:\n",
    "\n",
    "- Equals: a == b\n",
    "- Not Equals: a != b\n",
    "- Less than: a < b\n",
    "- Less than or equal to: a <= b\n",
    "- Greater than: a > b\n",
    "- Greater than or equal to: a >= b\n",
    "\n",
    "These conditions can be used in if.. elif... else input validation:"
   ]
  },
  {
   "cell_type": "code",
   "execution_count": null,
   "id": "afdea116",
   "metadata": {},
   "outputs": [],
   "source": [
    "a = 100\n",
    "\n",
    "if a == 100:\n",
    "    output = \"a is exactly 100\"\n",
    "elif a > 80:\n",
    "    output = \"a is greater than 80\"\n",
    "elif a > 60:\n",
    "    output = \"a is greater than 60\"\n",
    "elif a > 40:\n",
    "    output = \"a is greater than 40\"\n",
    "else:\n",
    "    output = \"a is greater than 40\"\n",
    "\n",
    "output"
   ]
  },
  {
   "cell_type": "code",
   "execution_count": null,
   "id": "56ef898f",
   "metadata": {},
   "outputs": [],
   "source": [
    "a = 100\n",
    "b = 100\n",
    "\n",
    "if a == b and a + b == 200:\n",
    "    print(\"a is equal to b and a + b = 200\")\n",
    "elif a == b and a + b != 200:\n",
    "    print(\"a is equal to b and a + b is not equal to 200\")\n",
    "else:\n",
    "    print(\"a is not equal to b\")"
   ]
  },
  {
   "cell_type": "markdown",
   "id": "8948f775",
   "metadata": {},
   "source": [
    "#### Input validation (If/Else)\n",
    "Python has 2 primitive types of loops:\n",
    "- A for loop is used for iterating over a sequence\n",
    "- A while loop is used to execute statements as long as a condition is true (be careful with this one!)"
   ]
  },
  {
   "cell_type": "code",
   "execution_count": null,
   "id": "f5f8d214",
   "metadata": {},
   "outputs": [],
   "source": [
    "a = 0\n",
    "while a < 3:\n",
    "  print(a)\n",
    "  a += 1"
   ]
  },
  {
   "cell_type": "code",
   "execution_count": null,
   "id": "ad6793f7",
   "metadata": {},
   "outputs": [],
   "source": [
    "for i in [0, 1, 2]:\n",
    "    print(i)"
   ]
  },
  {
   "cell_type": "markdown",
   "id": "864319ae",
   "metadata": {},
   "source": [
    "### Functions\n",
    "- A block of code which only runs when it is called\n",
    "- You can pass data, known as parameters, into a function\n",
    "- A function can return data as a result\n",
    "\n",
    "The following example creates an empty customer list, then a function called \"add_customer\" is defined. Whenever it is called a name and a phone number needs to be passed. It creates a unique uuid and a new dictionary which is appended to the customer_list."
   ]
  },
  {
   "cell_type": "code",
   "execution_count": null,
   "id": "07bdffb1",
   "metadata": {},
   "outputs": [],
   "source": [
    "import uuid\n",
    "\n",
    "customer_list = []\n",
    "\n",
    "def add_customer(name, tel):\n",
    "    new_uuid = uuid.uuid4()    \n",
    "    customer_dict = {\n",
    "        \"name\": name,\n",
    "        \"uuid\": str(new_uuid),\n",
    "        \"tel\": tel\n",
    "    }\n",
    "    customer_list.append(customer_dict)\n",
    "\n",
    "add_customer(\"Tree Plant AG\", \"+4179123456\")\n",
    "customer_list"
   ]
  },
  {
   "cell_type": "code",
   "execution_count": null,
   "id": "f7921e79",
   "metadata": {},
   "outputs": [],
   "source": [
    "add_customer(\"Migros AG\", \"+4179654321\")\n",
    "customer_list"
   ]
  },
  {
   "cell_type": "code",
   "execution_count": null,
   "id": "c2711f4b",
   "metadata": {},
   "outputs": [],
   "source": [
    "customer_list[0]"
   ]
  },
  {
   "cell_type": "markdown",
   "id": "67634534",
   "metadata": {},
   "source": [
    "### Exercise time!\n",
    "Please open the file exercise_2.ipynb"
   ]
  },
  {
   "cell_type": "markdown",
   "id": "2fcd01c6",
   "metadata": {},
   "source": [
    "### [OPTIONAL] Lets develop a small tool\n",
    "The target tool should be able to convert a given amount of seconds to a target output time unit (minutes, hours, days).\n",
    "\n",
    "Core design:\n",
    "\n",
    "-  Input values: \n",
    "    - comma seperated input numbers\n",
    "    - target_unit_type (minute, hour, day)\n",
    "- Output:\n",
    "    - Short text that says e.g. \"X seconds are equal to Y hours\"\n",
    "    \n",
    "- Optional: Error Handling"
   ]
  },
  {
   "cell_type": "markdown",
   "id": "4e045c61",
   "metadata": {},
   "source": [
    "<img src=\"https://c.tenor.com/lI3vrZhRMYIAAAAd/morpheus-i-can-only-show-you-the-door.gif\" alt=\"drawing\" width=\"800\" align=\"left\"/>"
   ]
  }
 ],
 "metadata": {
  "kernelspec": {
   "display_name": "Python 3",
   "language": "python",
   "name": "python3"
  },
  "language_info": {
   "codemirror_mode": {
    "name": "ipython",
    "version": 3
   },
   "file_extension": ".py",
   "mimetype": "text/x-python",
   "name": "python",
   "nbconvert_exporter": "python",
   "pygments_lexer": "ipython3",
   "version": "3.8.8"
  }
 },
 "nbformat": 4,
 "nbformat_minor": 5
}
